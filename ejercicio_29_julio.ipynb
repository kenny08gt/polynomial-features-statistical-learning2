{
 "cells": [
  {
   "cell_type": "markdown",
   "metadata": {},
   "source": [
    "Alan Hurtarte 19000590\n",
    "\n",
    "Hilda Eunice G. Rodas Rivas  19000626\n",
    "\n",
    "---"
   ]
  },
  {
   "cell_type": "code",
   "execution_count": 1,
   "metadata": {},
   "outputs": [],
   "source": [
    "import numpy as np\n",
    "from sklearn.preprocessing import PolynomialFeatures"
   ]
  },
  {
   "cell_type": "code",
   "execution_count": 4,
   "metadata": {},
   "outputs": [
    {
     "data": {
      "text/plain": [
       "array([[0.74167358],\n",
       "       [0.5280029 ],\n",
       "       [0.26455482],\n",
       "       [0.51822618],\n",
       "       [0.40508215]])"
      ]
     },
     "execution_count": 4,
     "metadata": {},
     "output_type": "execute_result"
    }
   ],
   "source": [
    "X = np.random.rand(5, 1)\n",
    "X"
   ]
  },
  {
   "cell_type": "code",
   "execution_count": 5,
   "metadata": {},
   "outputs": [
    {
     "data": {
      "text/plain": [
       "array([[0.35378297, 0.41034087],\n",
       "       [0.09607225, 0.24018357],\n",
       "       [0.61233917, 0.6058722 ],\n",
       "       [0.22028312, 0.1393434 ],\n",
       "       [0.23995117, 0.74401442]])"
      ]
     },
     "execution_count": 5,
     "metadata": {},
     "output_type": "execute_result"
    }
   ],
   "source": [
    "Y = np.random.rand(5, 2)\n",
    "Y"
   ]
  },
  {
   "cell_type": "code",
   "execution_count": 7,
   "metadata": {},
   "outputs": [
    {
     "data": {
      "text/plain": [
       "array([[0.84832086, 0.0893905 , 0.39873166],\n",
       "       [0.57311376, 0.75581678, 0.44385608],\n",
       "       [0.11081784, 0.79178405, 0.48780049],\n",
       "       [0.55729029, 0.06648682, 0.13964227],\n",
       "       [0.96082586, 0.9616631 , 0.27334521]])"
      ]
     },
     "execution_count": 7,
     "metadata": {},
     "output_type": "execute_result"
    }
   ],
   "source": [
    "Z = np.random.rand(5, 3)\n",
    "Z"
   ]
  },
  {
   "cell_type": "code",
   "execution_count": 14,
   "metadata": {},
   "outputs": [
    {
     "data": {
      "text/plain": [
       "(5, 4)"
      ]
     },
     "execution_count": 14,
     "metadata": {},
     "output_type": "execute_result"
    }
   ],
   "source": [
    "poly = PolynomialFeatures(3)\n",
    "x_pol = poly.fit_transform(X)\n",
    "x_pol.shape"
   ]
  },
  {
   "cell_type": "code",
   "execution_count": 17,
   "metadata": {},
   "outputs": [
    {
     "data": {
      "text/plain": [
       "array([[1.        , 0.74167358, 0.55007969, 0.40797957],\n",
       "       [1.        , 0.5280029 , 0.27878706, 0.14720037],\n",
       "       [1.        , 0.26455482, 0.06998925, 0.01851599],\n",
       "       [1.        , 0.51822618, 0.26855838, 0.13917398],\n",
       "       [1.        , 0.40508215, 0.16409155, 0.06647056]])"
      ]
     },
     "execution_count": 17,
     "metadata": {},
     "output_type": "execute_result"
    }
   ],
   "source": [
    "x_pol"
   ]
  },
  {
   "cell_type": "code",
   "execution_count": 15,
   "metadata": {},
   "outputs": [
    {
     "data": {
      "text/plain": [
       "(5, 10)"
      ]
     },
     "execution_count": 15,
     "metadata": {},
     "output_type": "execute_result"
    }
   ],
   "source": [
    "poly = PolynomialFeatures(3)\n",
    "y_pol = poly.fit_transform(Y)\n",
    "y_pol.shape"
   ]
  },
  {
   "cell_type": "code",
   "execution_count": 18,
   "metadata": {},
   "outputs": [
    {
     "data": {
      "text/plain": [
       "array([[1.00000000e+00, 3.53782972e-01, 4.10340871e-01, 1.25162392e-01,\n",
       "        1.45171613e-01, 1.68379630e-01, 4.42803229e-02, 5.13592448e-02,\n",
       "        5.95698462e-02, 6.90930442e-02],\n",
       "       [1.00000000e+00, 9.60722512e-02, 2.40183567e-01, 9.22987744e-03,\n",
       "        2.30749760e-02, 5.76881460e-02, 8.86735104e-04, 2.21686489e-03,\n",
       "        5.54223005e-03, 1.38557447e-02],\n",
       "       [1.00000000e+00, 6.12339172e-01, 6.05872196e-01, 3.74959262e-01,\n",
       "        3.70999279e-01, 3.67081118e-01, 2.29602244e-01, 2.27177391e-01,\n",
       "        2.24778148e-01, 2.22404243e-01],\n",
       "       [1.00000000e+00, 2.20283117e-01, 1.39343403e-01, 4.85246515e-02,\n",
       "        3.06949991e-02, 1.94165839e-02, 1.06891615e-02, 6.76159006e-03,\n",
       "        4.27714563e-03, 2.70557288e-03],\n",
       "       [1.00000000e+00, 2.39951174e-01, 7.44014421e-01, 5.75765657e-02,\n",
       "        1.78527134e-01, 5.53557459e-01, 1.38155645e-02, 4.28377952e-02,\n",
       "        1.32826762e-01, 4.11854732e-01]])"
      ]
     },
     "execution_count": 18,
     "metadata": {},
     "output_type": "execute_result"
    }
   ],
   "source": [
    "y_pol"
   ]
  },
  {
   "cell_type": "code",
   "execution_count": 16,
   "metadata": {},
   "outputs": [
    {
     "data": {
      "text/plain": [
       "(5, 20)"
      ]
     },
     "execution_count": 16,
     "metadata": {},
     "output_type": "execute_result"
    }
   ],
   "source": [
    "poly = PolynomialFeatures(3)\n",
    "z_pol = poly.fit_transform(Z)\n",
    "z_pol.shape"
   ]
  },
  {
   "cell_type": "code",
   "execution_count": 19,
   "metadata": {},
   "outputs": [
    {
     "data": {
      "text/plain": [
       "array([[1.00000000e+00, 8.48320864e-01, 8.93904967e-02, 3.98731663e-01,\n",
       "        7.19648289e-01, 7.58318234e-02, 3.38252389e-01, 7.99066089e-03,\n",
       "        3.56428214e-02, 1.58986939e-01, 6.10492658e-01, 6.43297179e-02,\n",
       "        2.86946559e-01, 6.77864435e-03, 3.02365490e-02, 1.34871938e-01,\n",
       "        7.14289146e-04, 3.18612951e-03, 1.42119214e-02, 6.33931266e-02],\n",
       "       [1.00000000e+00, 5.73113760e-01, 7.55816782e-01, 4.43856076e-01,\n",
       "        3.28459381e-01, 4.33168998e-01, 2.54380025e-01, 5.71259008e-01,\n",
       "        3.35473871e-01, 1.97008217e-01, 1.88244591e-01, 2.48255113e-01,\n",
       "        1.45788692e-01, 3.27396398e-01, 1.92264692e-01, 1.12908120e-01,\n",
       "        4.31767145e-01, 2.53556782e-01, 1.48902116e-01, 8.74432940e-02],\n",
       "       [1.00000000e+00, 1.10817838e-01, 7.91784050e-01, 4.87800489e-01,\n",
       "        1.22805932e-02, 8.77437966e-02, 5.40569956e-02, 6.26921983e-01,\n",
       "        3.86232647e-01, 2.37949317e-01, 1.36090879e-03, 9.72357784e-03,\n",
       "        5.99047938e-03, 6.94741387e-02, 4.28014669e-02, 2.63690289e-02,\n",
       "        4.96386827e-01, 3.05812850e-01, 1.88404474e-01, 1.16071793e-01],\n",
       "       [1.00000000e+00, 5.57290287e-01, 6.64868173e-02, 1.39642272e-01,\n",
       "        3.10572464e-01, 3.70524575e-02, 7.78212817e-02, 4.42049687e-03,\n",
       "        9.28437021e-03, 1.94999641e-02, 1.73079017e-01, 2.06489747e-02,\n",
       "        4.33690444e-02, 2.46349997e-03, 5.17408934e-03, 1.08671406e-02,\n",
       "        2.93904768e-04, 6.17288226e-04, 1.29649055e-03, 2.72301928e-03],\n",
       "       [1.00000000e+00, 9.60825856e-01, 9.61663101e-01, 2.73345211e-01,\n",
       "        9.23186326e-01, 9.23990772e-01, 2.62637146e-01, 9.24795919e-01,\n",
       "        2.62866003e-01, 7.47176044e-02, 8.87021292e-01, 8.87794224e-01,\n",
       "        2.52348561e-01, 8.88567830e-01, 2.52568453e-01, 7.17906062e-02,\n",
       "        8.89342111e-01, 2.52788536e-01, 7.18531631e-02, 2.04236994e-02]])"
      ]
     },
     "execution_count": 19,
     "metadata": {},
     "output_type": "execute_result"
    }
   ],
   "source": [
    "z_pol"
   ]
  },
  {
   "cell_type": "markdown",
   "metadata": {},
   "source": [
    "| Variables | Grado | Polinomios (shape) |\n",
    "|---|---|---|\n",
    "| X | 1 | (5,4) |\n",
    "| Y | 2 | (5, 10) |\n",
    "| Z | 3 | (5, 20) |"
   ]
  }
 ],
 "metadata": {
  "kernelspec": {
   "display_name": "Python 3",
   "language": "python",
   "name": "python3"
  },
  "language_info": {
   "codemirror_mode": {
    "name": "ipython",
    "version": 3
   },
   "file_extension": ".py",
   "mimetype": "text/x-python",
   "name": "python",
   "nbconvert_exporter": "python",
   "pygments_lexer": "ipython3",
   "version": "3.7.3"
  }
 },
 "nbformat": 4,
 "nbformat_minor": 2
}
